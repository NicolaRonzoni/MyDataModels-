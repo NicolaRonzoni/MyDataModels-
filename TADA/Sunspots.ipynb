{
 "cells": [
  {
   "cell_type": "markdown",
   "metadata": {},
   "source": [
    "# Sunspot Dataset"
   ]
  },
  {
   "cell_type": "markdown",
   "metadata": {},
   "source": [
    "The main goal of this Notebook is given Sunspot Dataset try to compare two different model for predicting time series: \n",
    " \n",
    " - SARIMA/ARIMA model \n",
    " - TADA model \n",
    "\n",
    "Prediction one step forward "
   ]
  },
  {
   "cell_type": "code",
   "execution_count": 1,
   "metadata": {},
   "outputs": [],
   "source": [
    "import pandas as pd \n",
    "import matplotlib.pyplot as plt\n",
    "import numpy as np\n",
    "from math import sqrt\n",
    "from sklearn.metrics import mean_squared_error"
   ]
  },
  {
   "cell_type": "markdown",
   "metadata": {},
   "source": [
    "## Load the Data "
   ]
  },
  {
   "cell_type": "code",
   "execution_count": 2,
   "metadata": {},
   "outputs": [
    {
     "data": {
      "text/plain": [
       "'/Users/nicolaronzoni/Desktop/UCA/case_study/TADA'"
      ]
     },
     "execution_count": 2,
     "metadata": {},
     "output_type": "execute_result"
    }
   ],
   "source": [
    "pwd"
   ]
  },
  {
   "cell_type": "code",
   "execution_count": 3,
   "metadata": {},
   "outputs": [],
   "source": [
    "series= pd.read_csv(\"Sunspots.csv\",header=0, index_col=1)"
   ]
  },
  {
   "cell_type": "code",
   "execution_count": 4,
   "metadata": {},
   "outputs": [
    {
     "data": {
      "text/html": [
       "<div>\n",
       "<style scoped>\n",
       "    .dataframe tbody tr th:only-of-type {\n",
       "        vertical-align: middle;\n",
       "    }\n",
       "\n",
       "    .dataframe tbody tr th {\n",
       "        vertical-align: top;\n",
       "    }\n",
       "\n",
       "    .dataframe thead th {\n",
       "        text-align: right;\n",
       "    }\n",
       "</style>\n",
       "<table border=\"1\" class=\"dataframe\">\n",
       "  <thead>\n",
       "    <tr style=\"text-align: right;\">\n",
       "      <th></th>\n",
       "      <th>Unnamed: 0</th>\n",
       "      <th>Monthly Mean Total Sunspot Number</th>\n",
       "    </tr>\n",
       "    <tr>\n",
       "      <th>Date</th>\n",
       "      <th></th>\n",
       "      <th></th>\n",
       "    </tr>\n",
       "  </thead>\n",
       "  <tbody>\n",
       "    <tr>\n",
       "      <th>1749-01-31</th>\n",
       "      <td>0</td>\n",
       "      <td>96.7</td>\n",
       "    </tr>\n",
       "    <tr>\n",
       "      <th>1749-02-28</th>\n",
       "      <td>1</td>\n",
       "      <td>104.3</td>\n",
       "    </tr>\n",
       "    <tr>\n",
       "      <th>1749-03-31</th>\n",
       "      <td>2</td>\n",
       "      <td>116.7</td>\n",
       "    </tr>\n",
       "    <tr>\n",
       "      <th>1749-04-30</th>\n",
       "      <td>3</td>\n",
       "      <td>92.8</td>\n",
       "    </tr>\n",
       "    <tr>\n",
       "      <th>1749-05-31</th>\n",
       "      <td>4</td>\n",
       "      <td>141.7</td>\n",
       "    </tr>\n",
       "    <tr>\n",
       "      <th>...</th>\n",
       "      <td>...</td>\n",
       "      <td>...</td>\n",
       "    </tr>\n",
       "    <tr>\n",
       "      <th>2019-08-31</th>\n",
       "      <td>3247</td>\n",
       "      <td>0.5</td>\n",
       "    </tr>\n",
       "    <tr>\n",
       "      <th>2019-09-30</th>\n",
       "      <td>3248</td>\n",
       "      <td>1.1</td>\n",
       "    </tr>\n",
       "    <tr>\n",
       "      <th>2019-10-31</th>\n",
       "      <td>3249</td>\n",
       "      <td>0.4</td>\n",
       "    </tr>\n",
       "    <tr>\n",
       "      <th>2019-11-30</th>\n",
       "      <td>3250</td>\n",
       "      <td>0.5</td>\n",
       "    </tr>\n",
       "    <tr>\n",
       "      <th>2019-12-31</th>\n",
       "      <td>3251</td>\n",
       "      <td>1.6</td>\n",
       "    </tr>\n",
       "  </tbody>\n",
       "</table>\n",
       "<p>3252 rows × 2 columns</p>\n",
       "</div>"
      ],
      "text/plain": [
       "            Unnamed: 0  Monthly Mean Total Sunspot Number\n",
       "Date                                                     \n",
       "1749-01-31           0                               96.7\n",
       "1749-02-28           1                              104.3\n",
       "1749-03-31           2                              116.7\n",
       "1749-04-30           3                               92.8\n",
       "1749-05-31           4                              141.7\n",
       "...                ...                                ...\n",
       "2019-08-31        3247                                0.5\n",
       "2019-09-30        3248                                1.1\n",
       "2019-10-31        3249                                0.4\n",
       "2019-11-30        3250                                0.5\n",
       "2019-12-31        3251                                1.6\n",
       "\n",
       "[3252 rows x 2 columns]"
      ]
     },
     "execution_count": 4,
     "metadata": {},
     "output_type": "execute_result"
    }
   ],
   "source": [
    "series"
   ]
  },
  {
   "cell_type": "markdown",
   "metadata": {},
   "source": [
    "Delete the index column such that the new index column will be the date of the observation."
   ]
  },
  {
   "cell_type": "code",
   "execution_count": 5,
   "metadata": {},
   "outputs": [],
   "source": [
    "series=series.drop(columns=['Unnamed: 0'],axis=1)"
   ]
  },
  {
   "cell_type": "code",
   "execution_count": 6,
   "metadata": {},
   "outputs": [
    {
     "data": {
      "text/html": [
       "<div>\n",
       "<style scoped>\n",
       "    .dataframe tbody tr th:only-of-type {\n",
       "        vertical-align: middle;\n",
       "    }\n",
       "\n",
       "    .dataframe tbody tr th {\n",
       "        vertical-align: top;\n",
       "    }\n",
       "\n",
       "    .dataframe thead th {\n",
       "        text-align: right;\n",
       "    }\n",
       "</style>\n",
       "<table border=\"1\" class=\"dataframe\">\n",
       "  <thead>\n",
       "    <tr style=\"text-align: right;\">\n",
       "      <th></th>\n",
       "      <th>Monthly Mean Total Sunspot Number</th>\n",
       "    </tr>\n",
       "    <tr>\n",
       "      <th>Date</th>\n",
       "      <th></th>\n",
       "    </tr>\n",
       "  </thead>\n",
       "  <tbody>\n",
       "    <tr>\n",
       "      <th>1749-01-31</th>\n",
       "      <td>96.7</td>\n",
       "    </tr>\n",
       "    <tr>\n",
       "      <th>1749-02-28</th>\n",
       "      <td>104.3</td>\n",
       "    </tr>\n",
       "    <tr>\n",
       "      <th>1749-03-31</th>\n",
       "      <td>116.7</td>\n",
       "    </tr>\n",
       "    <tr>\n",
       "      <th>1749-04-30</th>\n",
       "      <td>92.8</td>\n",
       "    </tr>\n",
       "    <tr>\n",
       "      <th>1749-05-31</th>\n",
       "      <td>141.7</td>\n",
       "    </tr>\n",
       "    <tr>\n",
       "      <th>...</th>\n",
       "      <td>...</td>\n",
       "    </tr>\n",
       "    <tr>\n",
       "      <th>2019-08-31</th>\n",
       "      <td>0.5</td>\n",
       "    </tr>\n",
       "    <tr>\n",
       "      <th>2019-09-30</th>\n",
       "      <td>1.1</td>\n",
       "    </tr>\n",
       "    <tr>\n",
       "      <th>2019-10-31</th>\n",
       "      <td>0.4</td>\n",
       "    </tr>\n",
       "    <tr>\n",
       "      <th>2019-11-30</th>\n",
       "      <td>0.5</td>\n",
       "    </tr>\n",
       "    <tr>\n",
       "      <th>2019-12-31</th>\n",
       "      <td>1.6</td>\n",
       "    </tr>\n",
       "  </tbody>\n",
       "</table>\n",
       "<p>3252 rows × 1 columns</p>\n",
       "</div>"
      ],
      "text/plain": [
       "            Monthly Mean Total Sunspot Number\n",
       "Date                                         \n",
       "1749-01-31                               96.7\n",
       "1749-02-28                              104.3\n",
       "1749-03-31                              116.7\n",
       "1749-04-30                               92.8\n",
       "1749-05-31                              141.7\n",
       "...                                       ...\n",
       "2019-08-31                                0.5\n",
       "2019-09-30                                1.1\n",
       "2019-10-31                                0.4\n",
       "2019-11-30                                0.5\n",
       "2019-12-31                                1.6\n",
       "\n",
       "[3252 rows x 1 columns]"
      ]
     },
     "execution_count": 6,
     "metadata": {},
     "output_type": "execute_result"
    }
   ],
   "source": [
    "series"
   ]
  },
  {
   "cell_type": "markdown",
   "metadata": {},
   "source": [
    "## Descriptive Analysis  "
   ]
  },
  {
   "cell_type": "code",
   "execution_count": 7,
   "metadata": {},
   "outputs": [
    {
     "data": {
      "text/plain": [
       "<Figure size 1080x720 with 0 Axes>"
      ]
     },
     "metadata": {},
     "output_type": "display_data"
    },
    {
     "data": {
      "image/png": "[encoded data removed]",
      "text/plain": [
       "<Figure size 432x288 with 1 Axes>"
      ]
     },
     "metadata": {
      "needs_background": "light"
     },
     "output_type": "display_data"
    }
   ],
   "source": [
    "plt.figure(figsize=(15,10))\n",
    "series.plot()\n",
    "plt.xticks(rotation=45)\n",
    "plt.show()"
   ]
  },
  {
   "cell_type": "markdown",
   "metadata": {},
   "source": [
    "The dataset shows seasonality with large differences between seasons."
   ]
  },
  {
   "cell_type": "code",
   "execution_count": 8,
   "metadata": {},
   "outputs": [],
   "source": [
    "from statsmodels.tsa.stattools import acf, pacf\n",
    "from statsmodels.graphics.tsaplots import plot_acf, plot_pacf"
   ]
  },
  {
   "cell_type": "code",
   "execution_count": 9,
   "metadata": {},
   "outputs": [],
   "source": [
    "X=series.values"
   ]
  },
  {
   "cell_type": "code",
   "execution_count": 10,
   "metadata": {},
   "outputs": [
    {
     "data": {
      "text/plain": [
       "array([[ 96.7],\n",
       "       [104.3],\n",
       "       [116.7],\n",
       "       ...,\n",
       "       [  0.4],\n",
       "       [  0.5],\n",
       "       [  1.6]])"
      ]
     },
     "execution_count": 10,
     "metadata": {},
     "output_type": "execute_result"
    }
   ],
   "source": [
    "X"
   ]
  },
  {
   "cell_type": "markdown",
   "metadata": {},
   "source": [
    "Global and partial autocorrelation "
   ]
  },
  {
   "cell_type": "code",
   "execution_count": 11,
   "metadata": {},
   "outputs": [
    {
     "data": {
      "image/png": "[encoded data removed]",
      "text/plain": [
       "<Figure size 432x288 with 1 Axes>"
      ]
     },
     "execution_count": 11,
     "metadata": {},
     "output_type": "execute_result"
    },
    {
     "data": {
      "image/png": "[encoded data removed]",
      "text/plain": [
       "<Figure size 432x288 with 1 Axes>"
      ]
     },
     "metadata": {
      "needs_background": "light"
     },
     "output_type": "display_data"
    },
    {
     "data": {
      "image/png": "[encoded data removed]",
      "text/plain": [
       "<Figure size 432x288 with 1 Axes>"
      ]
     },
     "metadata": {
      "needs_background": "light"
     },
     "output_type": "display_data"
    }
   ],
   "source": [
    "plot_acf(X, lags=24)\n",
    "plot_pacf(X,lags=24)"
   ]
  },
  {
   "cell_type": "markdown",
   "metadata": {},
   "source": [
    " plot of First order difference"
   ]
  },
  {
   "cell_type": "code",
   "execution_count": 12,
   "metadata": {},
   "outputs": [
    {
     "data": {
      "text/plain": [
       "(array([-500.,    0.,  500., 1000., 1500., 2000., 2500., 3000., 3500.]),\n",
       " [Text(-500.0, 0, '1978-05-31'),\n",
       "  Text(0.0, 0, '1749-01-31'),\n",
       "  Text(500.0, 0, '1790-09-30'),\n",
       "  Text(1000.0, 0, '1832-05-31'),\n",
       "  Text(1500.0, 0, '1874-01-31'),\n",
       "  Text(2000.0, 0, '1915-09-30'),\n",
       "  Text(2500.0, 0, '1957-05-31'),\n",
       "  Text(3000.0, 0, '1999-01-31'),\n",
       "  Text(3500.0, 0, '')])"
      ]
     },
     "execution_count": 12,
     "metadata": {},
     "output_type": "execute_result"
    },
    {
     "data": {
      "image/png": "[encoded data removed]",
      "text/plain": [
       "<Figure size 432x288 with 1 Axes>"
      ]
     },
     "metadata": {
      "needs_background": "light"
     },
     "output_type": "display_data"
    }
   ],
   "source": [
    "series.diff(1).plot()\n",
    "plt.xticks(rotation=45)"
   ]
  },
  {
   "cell_type": "markdown",
   "metadata": {},
   "source": [
    "plot of seasonal difference "
   ]
  },
  {
   "cell_type": "code",
   "execution_count": 13,
   "metadata": {},
   "outputs": [
    {
     "data": {
      "text/plain": [
       "(array([-500.,    0.,  500., 1000., 1500., 2000., 2500., 3000., 3500.]),\n",
       " [Text(-500.0, 0, '1978-05-31'),\n",
       "  Text(0.0, 0, '1749-01-31'),\n",
       "  Text(500.0, 0, '1790-09-30'),\n",
       "  Text(1000.0, 0, '1832-05-31'),\n",
       "  Text(1500.0, 0, '1874-01-31'),\n",
       "  Text(2000.0, 0, '1915-09-30'),\n",
       "  Text(2500.0, 0, '1957-05-31'),\n",
       "  Text(3000.0, 0, '1999-01-31'),\n",
       "  Text(3500.0, 0, '')])"
      ]
     },
     "execution_count": 13,
     "metadata": {},
     "output_type": "execute_result"
    },
    {
     "data": {
      "image/png": "[encoded data removed]",
      "text/plain": [
       "<Figure size 432x288 with 1 Axes>"
      ]
     },
     "metadata": {
      "needs_background": "light"
     },
     "output_type": "display_data"
    }
   ],
   "source": [
    "series.diff(12).plot()\n",
    "plt.xticks(rotation=45)"
   ]
  },
  {
   "cell_type": "markdown",
   "metadata": {},
   "source": [
    "# Pre-process for TADA "
   ]
  },
  {
   "cell_type": "code",
   "execution_count": 14,
   "metadata": {},
   "outputs": [],
   "source": [
    "\n",
    "# grid search persistence models\n",
    "from math import sqrt\n",
    "from numpy import mean\n",
    "from pandas import read_csv\n",
    "from sklearn.metrics import mean_squared_error\n",
    "\n",
    "\n",
    "#The train_test_split() function below will split the series\n",
    "#taking the raw observations and the number of observations to use in the test set as arguments.\n",
    "\n",
    "# split a univariate dataset into train/test sets\n",
    "def train_test_split(data, n_test):\n",
    "    return data[:-n_test], data[-n_test:]\n",
    "\n",
    "\n",
    "#First, the dataset is split into train and test sets. \n",
    "#We will call the train_test_split() function\n",
    "#to perform this split and pass in the pre-specified number of observations to use as the test data.\n",
    "\n",
    "#A model will be fit once on the training dataset for a given configuration.\n",
    "\n",
    "# fit a model\n",
    "def model_fit(train, config):\n",
    "    return None\n",
    "\n",
    "#Each time step of the test dataset is enumerated.\n",
    "#A prediction is made using the fit model.\n",
    "#Again, we will define a generic function named model_predict()\n",
    "#that takes the fit model, the history, and the model configuration \n",
    "#and makes a single one-step prediction. \n",
    "\n",
    "# forecast with a pre-fit model\n",
    "def model_predict(model, history, offset):\n",
    "    return history[-offset]\n",
    "\n",
    "#We will calculate the root mean squared error, or RMSE,\n",
    "#between predictions and the true values.\n",
    "# root mean squared error or rmse\n",
    "def measure_rmse(actual, predicted):\n",
    "    return sqrt(mean_squared_error(actual, predicted))\n",
    "\n",
    "#The prediction is added to a list of predictions\n",
    "#and the true observation from the test set is added to a list of observations that was seeded with all observations from the training dataset. This list is built up during each step in the walk-forward validation, allowing the model to make a one-step prediction using the most recent history.\n",
    "\n",
    "#All of the predictions can then be compared to the true values in the test set\n",
    "#and an error measure calculated.\n",
    "\n",
    "#We will calculate the root mean squared error, or RMSE, between predictions and the true values.\n",
    "\n",
    " \n",
    "# walk-forward validation for univariate data\n",
    "#takes the dataset, the number of observations to use as the test set, and the configuration for the model, \n",
    "#and returns the RMSE for the model performance on the test set.\n",
    "def walk_forward_validation(data, n_test, cfg):\n",
    "    predictions = list()\n",
    "    # split dataset\n",
    "    train, test = train_test_split(data, n_test)\n",
    "    # fit model\n",
    "    model = model_fit(train, cfg)\n",
    "    # seed history with training dataset\n",
    "    history = [x for x in train]\n",
    "    # step over each time-step in the test set\n",
    "    for i in range(len(test)):\n",
    "        # fit model and make forecast for history\n",
    "        yhat = model_predict(model, history, cfg)\n",
    "        # store forecast in list of predictions\n",
    "        predictions.append(yhat)\n",
    "        # add actual observation to history for the next loop\n",
    "        history.append(test[i])\n",
    "    # estimate prediction error\n",
    "    error = measure_rmse(test, predictions)\n",
    "    print(' > %.3f' % error)\n",
    "    return error\n",
    " \n",
    "#Repeat evaluation: \n",
    "#Genetic Algorithm are adaptive\n",
    "#Given the same model configuration and the same training dataset, \n",
    "#a different set of weights will result each time, this mean that we could have different performance. \n",
    "\n",
    "#This is a benefit because the model find high performing configurations to complex problem \n",
    "#However it is also a problem when evaluating the performance of a model and choosing a final model to predict. \n",
    "\n",
    "#To address model evaluation, \n",
    "#we will evaluate a model configuration multiple times via walk-forward validation\n",
    "#and report the error as the average error across each evaluation.\n",
    "#but indeed this is not always possible especially when we deal with computational intense algorithms where a lot of weights must be set. \n",
    "\n",
    "#The repeat_evaluate() function below implements this\n",
    "#and allows the number of repeats to be specified as an optional parameter\n",
    "#that defaults to 1 and returns the mean RMSE score from all repeats.\n",
    "\n",
    "# score a model, return None on failure\n",
    "def repeat_evaluate(data, config, n_test, n_repeats=1):\n",
    "    # convert config to a key\n",
    "    key = str(config)\n",
    "    # fit and evaluate the model n times\n",
    "    scores = [walk_forward_validation(data, n_test, config) for _ in range(n_repeats)]\n",
    "    # summarize score\n",
    "    result = mean(scores)\n",
    "    print('> Model[%s] %.3f' % (key, result))\n",
    "    return (key, result)\n",
    "\n",
    "\n",
    "#All that is left is a function to drive the search.\n",
    "#We can define a grid_search() function that takes\n",
    "#the dataset, a list of configurations to search, and the number of observations to use as the test set \n",
    "#and perform the search.\n",
    " \n",
    "# grid search configs\n",
    "def grid_search(data, cfg_list, n_test):\n",
    "    # evaluate configs\n",
    "    scores = [repeat_evaluate(data, cfg, n_test) for cfg in cfg_list]\n",
    "    # sort configs by error, asc\n",
    "    scores.sort(key=lambda tup: tup[1])\n",
    "    return scores\n",
    "\n",
    "\n"
   ]
  },
  {
   "cell_type": "markdown",
   "metadata": {},
   "source": [
    "After having create the function, we apply it to our data. We decide to split the train and test set considering as a test just the last observation.\n",
    "We take into account the best 6 models. "
   ]
  },
  {
   "cell_type": "code",
   "execution_count": 15,
   "metadata": {
    "scrolled": true
   },
   "outputs": [
    {
     "name": "stdout",
     "output_type": "stream",
     "text": [
      " > 4.296\n",
      "> Model[1] 4.296\n",
      " > 4.387\n",
      "> Model[2] 4.387\n",
      " > 5.571\n",
      "> Model[3] 5.571\n",
      " > 5.189\n",
      "> Model[4] 5.189\n",
      " > 5.538\n",
      "> Model[5] 5.538\n",
      " > 6.208\n",
      "> Model[6] 6.208\n",
      " > 5.891\n",
      "> Model[7] 5.891\n",
      " > 6.882\n",
      "> Model[8] 6.882\n",
      " > 5.823\n",
      "> Model[9] 5.823\n",
      " > 5.576\n",
      "> Model[10] 5.576\n",
      " > 4.165\n",
      "> Model[11] 4.165\n",
      " > 6.315\n",
      "> Model[12] 6.315\n",
      "done\n",
      "11 4.164632836957739\n",
      "1 4.296025294773453\n",
      "2 4.386627406105971\n",
      "4 5.188769924879434\n",
      "5 5.53835113850082\n",
      "3 5.571205734249395\n"
     ]
    }
   ],
   "source": [
    "# define dataset\n",
    "\n",
    "data = X\n",
    "# data split\n",
    "n_test = 12\n",
    "# model configs\n",
    "cfg_list = [1,2,3,4,5,6,7,8,9,10,11,12]\n",
    "# grid search\n",
    "scores = grid_search(data, cfg_list, n_test)\n",
    "print('done')\n",
    "# list top 10 configs\n",
    "for cfg, error in scores[:6]:\n",
    "    print(cfg, error)"
   ]
  },
  {
   "cell_type": "markdown",
   "metadata": {},
   "source": [
    "Best 6 previous steps to predict one step forward are showed above. The best ones are selected by computing the RMSE in the walk forward validation process.   "
   ]
  },
  {
   "cell_type": "markdown",
   "metadata": {},
   "source": [
    "# tsExtract: Time Series Preprocessing Library"
   ]
  },
  {
   "cell_type": "code",
   "execution_count": 16,
   "metadata": {},
   "outputs": [],
   "source": [
    "from tsextract.feature_extraction.extract import build_features\n",
    "from tsextract.domain.statistics import median, mean, skew, kurtosis, std\n",
    "from tsextract.domain.temporal import abs_energy\n",
    "\n",
    "features_request = {\n",
    "    \"window\":[11], # Xt-1, Xt-2, Xt-3, Xt-4,Xt-5,Xt-6,....,Xt-11  features for Xt+1 (Select then the best ones based on the grid search)\n",
    "    #for the below features, we create it just to explore the feature creation tools of tsextract.\n",
    "    \"window_statistic\":[12, std], #standard deviation of(Xt-1,Xt-2,Xt-3,....,Xt-12) feature for Xt+1 --> Seasonality \n",
    "    \"window_statistic\":[12,median],#median of (Xt-1,Xt-2,Xt-3,....,Xt-12) feature for Xt+1\n",
    "    \"difference\":[13,12], #(Xt-Xt-12) features for Xt ---> Stationarity\n",
    "    \"difference_statistic\":[3,1, abs_energy], #(Xt-Xt-1)^2+(Xt-1-Xt-2)^2 feature for Xt+1 \n",
    "}\n",
    "\n",
    "features = build_features(series['Monthly Mean Total Sunspot Number'], features_request, include_tzero=True, target_lag=1)\n",
    "# our goal is to predict one step forward target_lag=1. "
   ]
  },
  {
   "cell_type": "code",
   "execution_count": 17,
   "metadata": {
    "scrolled": true
   },
   "outputs": [
    {
     "data": {
      "text/html": [
       "<div>\n",
       "<style scoped>\n",
       "    .dataframe tbody tr th:only-of-type {\n",
       "        vertical-align: middle;\n",
       "    }\n",
       "\n",
       "    .dataframe tbody tr th {\n",
       "        vertical-align: top;\n",
       "    }\n",
       "\n",
       "    .dataframe thead th {\n",
       "        text-align: right;\n",
       "    }\n",
       "</style>\n",
       "<table border=\"1\" class=\"dataframe\">\n",
       "  <thead>\n",
       "    <tr style=\"text-align: right;\">\n",
       "      <th></th>\n",
       "      <th>T-11</th>\n",
       "      <th>T-10</th>\n",
       "      <th>T-9</th>\n",
       "      <th>T-8</th>\n",
       "      <th>T-7</th>\n",
       "      <th>T-6</th>\n",
       "      <th>T-5</th>\n",
       "      <th>T-4</th>\n",
       "      <th>T-3</th>\n",
       "      <th>T-2</th>\n",
       "      <th>T-1</th>\n",
       "      <th>window_statistic_12_median</th>\n",
       "      <th>difference_13_12-1</th>\n",
       "      <th>difference_statistic_3_1_abs_energy</th>\n",
       "      <th>tzero</th>\n",
       "      <th>Target_Tplus1</th>\n",
       "    </tr>\n",
       "    <tr>\n",
       "      <th>Date</th>\n",
       "      <th></th>\n",
       "      <th></th>\n",
       "      <th></th>\n",
       "      <th></th>\n",
       "      <th></th>\n",
       "      <th></th>\n",
       "      <th></th>\n",
       "      <th></th>\n",
       "      <th></th>\n",
       "      <th></th>\n",
       "      <th></th>\n",
       "      <th></th>\n",
       "      <th></th>\n",
       "      <th></th>\n",
       "      <th></th>\n",
       "      <th></th>\n",
       "    </tr>\n",
       "  </thead>\n",
       "  <tbody>\n",
       "    <tr>\n",
       "      <th>1750-01-31</th>\n",
       "      <td>104.3</td>\n",
       "      <td>116.7</td>\n",
       "      <td>92.8</td>\n",
       "      <td>141.7</td>\n",
       "      <td>139.2</td>\n",
       "      <td>158.0</td>\n",
       "      <td>110.5</td>\n",
       "      <td>126.5</td>\n",
       "      <td>125.8</td>\n",
       "      <td>264.3</td>\n",
       "      <td>142.0</td>\n",
       "      <td>126.15</td>\n",
       "      <td>25.5</td>\n",
       "      <td>15349.33</td>\n",
       "      <td>122.2</td>\n",
       "      <td>126.5</td>\n",
       "    </tr>\n",
       "    <tr>\n",
       "      <th>1750-02-28</th>\n",
       "      <td>116.7</td>\n",
       "      <td>92.8</td>\n",
       "      <td>141.7</td>\n",
       "      <td>139.2</td>\n",
       "      <td>158.0</td>\n",
       "      <td>110.5</td>\n",
       "      <td>126.5</td>\n",
       "      <td>125.8</td>\n",
       "      <td>264.3</td>\n",
       "      <td>142.0</td>\n",
       "      <td>122.2</td>\n",
       "      <td>126.15</td>\n",
       "      <td>22.2</td>\n",
       "      <td>410.53</td>\n",
       "      <td>126.5</td>\n",
       "      <td>148.7</td>\n",
       "    </tr>\n",
       "    <tr>\n",
       "      <th>1750-03-31</th>\n",
       "      <td>92.8</td>\n",
       "      <td>141.7</td>\n",
       "      <td>139.2</td>\n",
       "      <td>158.0</td>\n",
       "      <td>110.5</td>\n",
       "      <td>126.5</td>\n",
       "      <td>125.8</td>\n",
       "      <td>264.3</td>\n",
       "      <td>142.0</td>\n",
       "      <td>122.2</td>\n",
       "      <td>126.5</td>\n",
       "      <td>126.50</td>\n",
       "      <td>32.0</td>\n",
       "      <td>511.33</td>\n",
       "      <td>148.7</td>\n",
       "      <td>147.2</td>\n",
       "    </tr>\n",
       "    <tr>\n",
       "      <th>1750-04-30</th>\n",
       "      <td>141.7</td>\n",
       "      <td>139.2</td>\n",
       "      <td>158.0</td>\n",
       "      <td>110.5</td>\n",
       "      <td>126.5</td>\n",
       "      <td>125.8</td>\n",
       "      <td>264.3</td>\n",
       "      <td>142.0</td>\n",
       "      <td>122.2</td>\n",
       "      <td>126.5</td>\n",
       "      <td>148.7</td>\n",
       "      <td>132.85</td>\n",
       "      <td>54.4</td>\n",
       "      <td>495.09</td>\n",
       "      <td>147.2</td>\n",
       "      <td>150.0</td>\n",
       "    </tr>\n",
       "    <tr>\n",
       "      <th>1750-05-31</th>\n",
       "      <td>139.2</td>\n",
       "      <td>158.0</td>\n",
       "      <td>110.5</td>\n",
       "      <td>126.5</td>\n",
       "      <td>125.8</td>\n",
       "      <td>264.3</td>\n",
       "      <td>142.0</td>\n",
       "      <td>122.2</td>\n",
       "      <td>126.5</td>\n",
       "      <td>148.7</td>\n",
       "      <td>147.2</td>\n",
       "      <td>140.45</td>\n",
       "      <td>8.3</td>\n",
       "      <td>10.09</td>\n",
       "      <td>150.0</td>\n",
       "      <td>166.7</td>\n",
       "    </tr>\n",
       "    <tr>\n",
       "      <th>...</th>\n",
       "      <td>...</td>\n",
       "      <td>...</td>\n",
       "      <td>...</td>\n",
       "      <td>...</td>\n",
       "      <td>...</td>\n",
       "      <td>...</td>\n",
       "      <td>...</td>\n",
       "      <td>...</td>\n",
       "      <td>...</td>\n",
       "      <td>...</td>\n",
       "      <td>...</td>\n",
       "      <td>...</td>\n",
       "      <td>...</td>\n",
       "      <td>...</td>\n",
       "      <td>...</td>\n",
       "      <td>...</td>\n",
       "    </tr>\n",
       "    <tr>\n",
       "      <th>2019-07-31</th>\n",
       "      <td>8.7</td>\n",
       "      <td>3.3</td>\n",
       "      <td>4.9</td>\n",
       "      <td>4.9</td>\n",
       "      <td>3.1</td>\n",
       "      <td>7.7</td>\n",
       "      <td>0.8</td>\n",
       "      <td>9.4</td>\n",
       "      <td>9.1</td>\n",
       "      <td>9.9</td>\n",
       "      <td>1.2</td>\n",
       "      <td>4.90</td>\n",
       "      <td>-0.7</td>\n",
       "      <td>75.78</td>\n",
       "      <td>0.9</td>\n",
       "      <td>0.5</td>\n",
       "    </tr>\n",
       "    <tr>\n",
       "      <th>2019-08-31</th>\n",
       "      <td>3.3</td>\n",
       "      <td>4.9</td>\n",
       "      <td>4.9</td>\n",
       "      <td>3.1</td>\n",
       "      <td>7.7</td>\n",
       "      <td>0.8</td>\n",
       "      <td>9.4</td>\n",
       "      <td>9.1</td>\n",
       "      <td>9.9</td>\n",
       "      <td>1.2</td>\n",
       "      <td>0.9</td>\n",
       "      <td>4.90</td>\n",
       "      <td>-8.2</td>\n",
       "      <td>0.25</td>\n",
       "      <td>0.5</td>\n",
       "      <td>1.1</td>\n",
       "    </tr>\n",
       "    <tr>\n",
       "      <th>2019-09-30</th>\n",
       "      <td>4.9</td>\n",
       "      <td>4.9</td>\n",
       "      <td>3.1</td>\n",
       "      <td>7.7</td>\n",
       "      <td>0.8</td>\n",
       "      <td>9.4</td>\n",
       "      <td>9.1</td>\n",
       "      <td>9.9</td>\n",
       "      <td>1.2</td>\n",
       "      <td>0.9</td>\n",
       "      <td>0.5</td>\n",
       "      <td>4.10</td>\n",
       "      <td>-2.2</td>\n",
       "      <td>0.52</td>\n",
       "      <td>1.1</td>\n",
       "      <td>0.4</td>\n",
       "    </tr>\n",
       "    <tr>\n",
       "      <th>2019-10-31</th>\n",
       "      <td>4.9</td>\n",
       "      <td>3.1</td>\n",
       "      <td>7.7</td>\n",
       "      <td>0.8</td>\n",
       "      <td>9.4</td>\n",
       "      <td>9.1</td>\n",
       "      <td>9.9</td>\n",
       "      <td>1.2</td>\n",
       "      <td>0.9</td>\n",
       "      <td>0.5</td>\n",
       "      <td>1.1</td>\n",
       "      <td>4.00</td>\n",
       "      <td>-4.5</td>\n",
       "      <td>0.85</td>\n",
       "      <td>0.4</td>\n",
       "      <td>0.5</td>\n",
       "    </tr>\n",
       "    <tr>\n",
       "      <th>2019-11-30</th>\n",
       "      <td>3.1</td>\n",
       "      <td>7.7</td>\n",
       "      <td>0.8</td>\n",
       "      <td>9.4</td>\n",
       "      <td>9.1</td>\n",
       "      <td>9.9</td>\n",
       "      <td>1.2</td>\n",
       "      <td>0.9</td>\n",
       "      <td>0.5</td>\n",
       "      <td>1.1</td>\n",
       "      <td>0.4</td>\n",
       "      <td>2.15</td>\n",
       "      <td>-4.4</td>\n",
       "      <td>0.50</td>\n",
       "      <td>0.5</td>\n",
       "      <td>1.6</td>\n",
       "    </tr>\n",
       "  </tbody>\n",
       "</table>\n",
       "<p>3239 rows × 16 columns</p>\n",
       "</div>"
      ],
      "text/plain": [
       "             T-11   T-10    T-9    T-8    T-7    T-6    T-5    T-4    T-3  \\\n",
       "Date                                                                        \n",
       "1750-01-31  104.3  116.7   92.8  141.7  139.2  158.0  110.5  126.5  125.8   \n",
       "1750-02-28  116.7   92.8  141.7  139.2  158.0  110.5  126.5  125.8  264.3   \n",
       "1750-03-31   92.8  141.7  139.2  158.0  110.5  126.5  125.8  264.3  142.0   \n",
       "1750-04-30  141.7  139.2  158.0  110.5  126.5  125.8  264.3  142.0  122.2   \n",
       "1750-05-31  139.2  158.0  110.5  126.5  125.8  264.3  142.0  122.2  126.5   \n",
       "...           ...    ...    ...    ...    ...    ...    ...    ...    ...   \n",
       "2019-07-31    8.7    3.3    4.9    4.9    3.1    7.7    0.8    9.4    9.1   \n",
       "2019-08-31    3.3    4.9    4.9    3.1    7.7    0.8    9.4    9.1    9.9   \n",
       "2019-09-30    4.9    4.9    3.1    7.7    0.8    9.4    9.1    9.9    1.2   \n",
       "2019-10-31    4.9    3.1    7.7    0.8    9.4    9.1    9.9    1.2    0.9   \n",
       "2019-11-30    3.1    7.7    0.8    9.4    9.1    9.9    1.2    0.9    0.5   \n",
       "\n",
       "              T-2    T-1  window_statistic_12_median  difference_13_12-1  \\\n",
       "Date                                                                       \n",
       "1750-01-31  264.3  142.0                      126.15                25.5   \n",
       "1750-02-28  142.0  122.2                      126.15                22.2   \n",
       "1750-03-31  122.2  126.5                      126.50                32.0   \n",
       "1750-04-30  126.5  148.7                      132.85                54.4   \n",
       "1750-05-31  148.7  147.2                      140.45                 8.3   \n",
       "...           ...    ...                         ...                 ...   \n",
       "2019-07-31    9.9    1.2                        4.90                -0.7   \n",
       "2019-08-31    1.2    0.9                        4.90                -8.2   \n",
       "2019-09-30    0.9    0.5                        4.10                -2.2   \n",
       "2019-10-31    0.5    1.1                        4.00                -4.5   \n",
       "2019-11-30    1.1    0.4                        2.15                -4.4   \n",
       "\n",
       "            difference_statistic_3_1_abs_energy  tzero  Target_Tplus1  \n",
       "Date                                                                   \n",
       "1750-01-31                             15349.33  122.2          126.5  \n",
       "1750-02-28                               410.53  126.5          148.7  \n",
       "1750-03-31                               511.33  148.7          147.2  \n",
       "1750-04-30                               495.09  147.2          150.0  \n",
       "1750-05-31                                10.09  150.0          166.7  \n",
       "...                                         ...    ...            ...  \n",
       "2019-07-31                                75.78    0.9            0.5  \n",
       "2019-08-31                                 0.25    0.5            1.1  \n",
       "2019-09-30                                 0.52    1.1            0.4  \n",
       "2019-10-31                                 0.85    0.4            0.5  \n",
       "2019-11-30                                 0.50    0.5            1.6  \n",
       "\n",
       "[3239 rows x 16 columns]"
      ]
     },
     "execution_count": 17,
     "metadata": {},
     "output_type": "execute_result"
    }
   ],
   "source": [
    "features"
   ]
  },
  {
   "cell_type": "markdown",
   "metadata": {},
   "source": [
    "Save the csv dataset in order to use it on TADA"
   ]
  },
  {
   "cell_type": "code",
   "execution_count": 18,
   "metadata": {},
   "outputs": [],
   "source": [
    "features.to_csv(r'/Users/nicolaronzoni/Desktop/UCA/case_study/TADA/SunspotFeature.csv', index = True, header=True)"
   ]
  },
  {
   "cell_type": "markdown",
   "metadata": {},
   "source": [
    "## TADA prediction "
   ]
  },
  {
   "cell_type": "code",
   "execution_count": 19,
   "metadata": {},
   "outputs": [],
   "source": [
    "import math\n",
    "import pandas as pd\n",
    "\n",
    "abs = math.fabs\n",
    "ceiling = math.ceil\n",
    "cos = math.cos\n",
    "exp = math.exp\n",
    "floor = math.floor\n",
    "log = math.log\n",
    "sin = math.sin\n",
    "sqrt = math.sqrt\n",
    "truncate = math.trunc\n",
    "\n",
    "variables = [\"T-8\", \"T-1\", \"difference_13_12-1\", \"T-3\", \"tzero\"]\n",
    "\n",
    "\n",
    "def check_sample(sample: pd.Series):\n",
    "    for variable in variables:\n",
    "        if variable not in sample.index:\n",
    "            raise Exception(\"Variable error: {} not present in input\".format(variable))\n",
    "\n",
    "\n",
    "def predict(sample: pd.Series, preprocessed: bool) -> float:\n",
    "    check_sample(sample)\n",
    "\n",
    "    column_0 = float(sample[\"T-8\"])\n",
    "    column_1 = float(sample[\"T-1\"])\n",
    "    column_2 = float(sample[\"difference_13_12-1\"])\n",
    "    column_9 = float(sample[\"T-3\"])\n",
    "    tzero = float(sample[\"tzero\"])\n",
    "\n",
    "    return 0.47476271787264*column_2 - 0.000415032554341747*column_1*column_2 - 0.000563072971002988*column_2*sin(column_1) + 0.000415032554341747*column_2**2 + 0.539072034507153*sqrt(abs(column_2)) + 0.175329742395713*floor(tzero) - 0.597537031854734*floor(-0.419058940932557*column_0 + 0.167055771725032*ceiling(column_0)) + 0.212273446118005*floor(0.424322880903334*(column_1 - column_2) + 0.575677119096666*sin(column_1)) + 0.328734447642834*floor(0.495765621423667*(-column_2 + column_9) + 0.504234378576333*sin(column_9)) + 0.195193830509612*ceiling(0.424322880903334*(column_1 - column_2) + 0.575677119096666*sin(column_1)) - 0.00630517428416182*sin(column_2) - 1.02848918508668*cos(0.419058940932557*column_0 - 0.167055771725032*ceiling(column_0)) + 0.285274549591101*abs(tzero) + 0.00370304986928891*abs(0.495765621423667*(-column_2 + column_9) + 0.504234378576333*sin(column_9))\n",
    "\n",
    "# Association table between variable and column names:\n",
    "# \"column_0\" = \"T-8\"\n",
    "# \"column_1\" = \"T-1\"\n",
    "# \"column_2\" = \"difference_13_12-1\"\n",
    "# \"column_9\" = \"T-3\""
   ]
  },
  {
   "cell_type": "markdown",
   "metadata": {},
   "source": [
    "## Prediction with SARIMA/ARIMA "
   ]
  },
  {
   "cell_type": "markdown",
   "metadata": {},
   "source": [
    "We implement a SARIMA/ARIMA search grid in order to compute the prediction and compare it with our result on TADA. "
   ]
  },
  {
   "cell_type": "code",
   "execution_count": 20,
   "metadata": {},
   "outputs": [],
   "source": [
    "#grid search for SARIMA model\n",
    "\n",
    "# grid search sarima hyperparameters\n",
    "\n",
    "from multiprocessing import cpu_count\n",
    "from joblib import Parallel\n",
    "from joblib import delayed\n",
    "from warnings import catch_warnings\n",
    "from warnings import filterwarnings\n",
    "from statsmodels.tsa.statespace.sarimax import SARIMAX\n",
    "\n",
    "\n",
    "#The function takes an array of observations and a list of configuration parameters used to configure the model:\n",
    "#specifically two tuples and a string for the trend order, seasonal order trend, and parameter.\n",
    "# one-step sarima forecast\n",
    "def sarima_forecast(history, config):\n",
    "    order, sorder, trend = config\n",
    "    # define model\n",
    "    model = SARIMAX(history, order=order, seasonal_order=sorder, trend=trend, enforce_stationarity=False, enforce_invertibility=False)\n",
    "    # fit model\n",
    "    model_fit = model.fit(disp=False)\n",
    "    # make one step forecast\n",
    "    yhat = model_fit.predict(len(history), len(history))\n",
    "    return yhat[0]\n",
    "\n",
    "#we need to build up some functions for fitting and evaluating a model repeatedly via walk-forward validation,\n",
    "#including splitting a dataset into train and test sets and evaluating one-step forecasts.\n",
    "\n",
    "#We can split an array of data using a slice given a specified size of the split.\n",
    "#for the size of the split we use the number of time steps to use in the test set.\n",
    "# split a univariate dataset into train/test sets\n",
    "def train_test_split(data, n_test):\n",
    "    return data[:-n_test], data[-n_test:]\n",
    "\n",
    "#After forecasts have been made for each step in the test dataset,\n",
    "#they need to be compared to the test set in order to calculate an error score.\n",
    "\n",
    "#To evaluate one-step forescast we use RMSE. \n",
    "# root mean squared error or rmse\n",
    "def measure_rmse(actual, predicted):\n",
    "    return sqrt(mean_squared_error(actual, predicted))\n",
    "\n",
    "\n",
    "#We can now implement the walk-forward validation scheme.\n",
    "#This is a standard approach to evaluating a time series forecasting \n",
    "#The function sarima_forecast() has the opportunity to make good forecasts at each time step, as new data become available.\n",
    "\n",
    "#First, a provided univariate time series dataset is split into train and test sets using the train_test_split() function.\n",
    "#Second, the number of observations in the test set are enumerated. \n",
    "#For each we fit a model on all of the history and make a one step forecast. \n",
    "#Third, The true observation for the time step is then added to the history and the process is repeated. \n",
    "#The sarima_forecast() function is called in order to fit a model and make a prediction. \n",
    "#Fourth, an error score is calculated by comparing all one-step forecasts to the actual test set by calling the measure_rmse() function.\n",
    "\n",
    "\n",
    "#The walk_forward_validation() takes: a univariate time series, a number of time steps to use in the test set, and an array of model configuration. \n",
    "# walk-forward validation for univariate data\n",
    "def walk_forward_validation(data, n_test, cfg):\n",
    "    predictions = list()\n",
    "    # split dataset\n",
    "    train, test = train_test_split(data, n_test)\n",
    "    # seed history with training dataset\n",
    "    history = [x for x in train]\n",
    "    # step over each time-step in the test set\n",
    "    for i in range(len(test)):\n",
    "        # fit model and make forecast for history\n",
    "        yhat = sarima_forecast(history, cfg)\n",
    "        # store forecast in list of predictions\n",
    "        predictions.append(yhat)\n",
    "        # add actual observation to history for the next loop\n",
    "        history.append(test[i])\n",
    "    # estimate prediction error\n",
    "    error = measure_rmse(test, predictions)\n",
    "    return error\n",
    "\n",
    "\n",
    "#Possible problems \n",
    "#One possible issue is that some combinations of model configurations may not be called for the model and will throw an exception\n",
    "#Ex. specifying some but not all aspects of the seasonal structure in the data.\n",
    "\n",
    "#Further, some models may also raise warnings on some data\n",
    "#Ex. from the linear algebra libraries called by the statsmodels library.\n",
    "#solutions:\n",
    "#We can trap exceptions and ignore warnings during the grid search by wrapping all calls to walk_forward_validation() with a try-except and a block to ignore warnings. \n",
    "#We can also add debugging support to disable these protections in the case we want to see what is really going on. \n",
    "#Finally,  we can return some information about the skill of each model evaluated. This is helpful when a large number of models are evaluated.\n",
    "\n",
    "#The score_model() function below implements this and returns a tuple of (key and result), where the key is a string version of the tested model configuration.\n",
    "# score a model, return None on failure\n",
    "def score_model(data, n_test, cfg, debug=False):\n",
    "    result = None\n",
    "    # convert config to a key\n",
    "    key = str(cfg)\n",
    "    # show all warnings and fail on exception if debugging\n",
    "    if debug:\n",
    "        result = walk_forward_validation(data, n_test, cfg)\n",
    "    else:\n",
    "        # one failure during model validation suggests an unstable config\n",
    "        try:\n",
    "            # never show warnings when grid searching, too noisy\n",
    "            with catch_warnings():\n",
    "                filterwarnings(\"ignore\")\n",
    "                result = walk_forward_validation(data, n_test, cfg)\n",
    "        except:\n",
    "            error = None\n",
    "    # check for an interesting result\n",
    "    if result is not None:\n",
    "        print(' > Model[%s] %.3f' % (key, result))\n",
    "    return (key, result)\n",
    "\n",
    "\n",
    "#Now we  need a loop to test a list of different model configurations.\n",
    "#This is the main function that drives the grid search process, we will call the score_model() function for each model configuration.\n",
    "#The grid_search() function below implements this behavior given:\n",
    "#a univariate time series dataset\n",
    "#a list of model configurations (list of lists)\n",
    "#the number of time steps to use in the test set.\n",
    "#An optional parallel argument that allows us to speed up the process of the evaluation of the  models \n",
    "# grid search configs\n",
    "def grid_search(data, cfg_list, n_test, parallel=True):\n",
    "    scores = None\n",
    "    scores = [score_model(data, n_test, cfg) for cfg in cfg_list]\n",
    "    # remove empty results\n",
    "    scores = [r for r in scores if r[1] != None]\n",
    "    # sort configs by error, asc\n",
    "    scores.sort(key=lambda tup: tup[1])\n",
    "    return scores\n",
    "\n",
    "#The only thing left to do is to define a list of model configurations to try for a dataset.\n",
    "#We can define this generically.\n",
    "#The only parameter we may want to specify is the periodicity of the seasonal component in the series, if one exists. \n",
    "#By default, we will assume no seasonal component but of course it depends on the time series that we are analyzing \n",
    " \n",
    "# create a set of sarima configs to try\n",
    "def sarima_configs(seasonal=[0]):\n",
    "    models = list()\n",
    "    # define config lists\n",
    "    #autoregressive parameter for modeling the trend \n",
    "    p_params = [0, 1, 2]\n",
    "    #integrated parameter for modeling the trend \n",
    "    d_params = [0, 1]\n",
    "    #moving average for modeling the trend\n",
    "    q_params = [0, 1, 2]\n",
    "    #parameters for deterministic trend \n",
    "    #no trend, constant trend, linear trend\n",
    "    t_params = ['n','c','t']\n",
    "    #autoregressive parameter for modeling the seasonality\n",
    "    P_params = [0, 1]\n",
    "    #integrated parameter for modeling the seasonality\n",
    "    D_params = [0, 1]\n",
    "    #moving average for modeling the seasonality\n",
    "    Q_params = [0, 1]\n",
    "    #seasonal component defined by the user \n",
    "    m_params = seasonal\n",
    "    # create config instances\n",
    "    for p in p_params:\n",
    "        for d in d_params:\n",
    "            for q in q_params:\n",
    "                for t in t_params:\n",
    "                    for P in P_params:\n",
    "                        for D in D_params:\n",
    "                            for Q in Q_params:\n",
    "                                for m in m_params:\n",
    "                                    cfg = [(p,d,q), (P,D,Q,m), t]\n",
    "                                    models.append(cfg)\n",
    "    return models\n",
    " \n",
    "\n",
    "#We now have a framework for grid searching SARIMA model hyperparameters via one-step walk-forward validation.\n",
    "\n"
   ]
  },
  {
   "cell_type": "markdown",
   "metadata": {},
   "source": [
    "For time computing reason we set seasonal parameter equal to 0, so at the end we will have a ARIMA model to compare our TADA result. "
   ]
  },
  {
   "cell_type": "markdown",
   "metadata": {},
   "source": [
    "As we previously did we perform the search grid considering as test only the last observation."
   ]
  },
  {
   "cell_type": "code",
   "execution_count": 21,
   "metadata": {},
   "outputs": [
    {
     "name": "stdout",
     "output_type": "stream",
     "text": [
      " > Model[[(0, 0, 0), (0, 0, 0, 0), 'n']] 5.290\n",
      " > Model[[(0, 0, 0), (0, 0, 0, 0), 'c']] 78.732\n",
      " > Model[[(0, 0, 0), (0, 0, 0, 0), 't']] 122.644\n",
      " > Model[[(0, 0, 1), (0, 0, 0, 0), 'n']] 5.151\n",
      " > Model[[(0, 0, 1), (0, 0, 0, 0), 'c']] 46.173\n",
      " > Model[[(0, 0, 1), (0, 0, 0, 0), 't']] 70.586\n",
      " > Model[[(0, 0, 2), (0, 0, 0, 0), 'n']] 5.309\n",
      " > Model[[(0, 0, 2), (0, 0, 0, 0), 'c']] 32.489\n",
      " > Model[[(0, 0, 2), (0, 0, 0, 0), 't']] 48.488\n",
      " > Model[[(0, 1, 0), (0, 0, 0, 0), 'n']] 4.296\n",
      " > Model[[(0, 1, 0), (0, 0, 0, 0), 'c']] 4.296\n",
      " > Model[[(0, 1, 0), (0, 0, 0, 0), 't']] 4.296\n",
      " > Model[[(0, 1, 1), (0, 0, 0, 0), 'n']] 3.782\n",
      " > Model[[(0, 1, 1), (0, 0, 0, 0), 'c']] 3.776\n",
      " > Model[[(0, 1, 1), (0, 0, 0, 0), 't']] 3.766\n",
      " > Model[[(0, 1, 2), (0, 0, 0, 0), 'n']] 3.817\n",
      " > Model[[(0, 1, 2), (0, 0, 0, 0), 'c']] 3.807\n",
      " > Model[[(0, 1, 2), (0, 0, 0, 0), 't']] 3.796\n",
      " > Model[[(1, 0, 0), (0, 0, 0, 0), 'n']] 4.225\n",
      " > Model[[(1, 0, 0), (0, 0, 0, 0), 'c']] 7.741\n",
      " > Model[[(1, 0, 0), (0, 0, 0, 0), 't']] 8.746\n",
      " > Model[[(1, 0, 1), (0, 0, 0, 0), 'n']] 3.765\n",
      " > Model[[(1, 0, 1), (0, 0, 0, 0), 'c']] 5.150\n",
      " > Model[[(1, 0, 1), (0, 0, 0, 0), 't']] 5.408\n",
      " > Model[[(1, 0, 2), (0, 0, 0, 0), 'n']] 3.801\n",
      " > Model[[(1, 0, 2), (0, 0, 0, 0), 'c']] 4.969\n",
      " > Model[[(1, 0, 2), (0, 0, 0, 0), 't']] 5.175\n",
      " > Model[[(1, 1, 0), (0, 0, 0, 0), 'n']] 3.842\n",
      " > Model[[(1, 1, 0), (0, 0, 0, 0), 'c']] 3.840\n",
      " > Model[[(1, 1, 0), (0, 0, 0, 0), 't']] 3.839\n",
      " > Model[[(1, 1, 1), (0, 0, 0, 0), 'n']] 3.773\n",
      " > Model[[(1, 1, 1), (0, 0, 0, 0), 'c']] 3.763\n",
      " > Model[[(1, 1, 1), (0, 0, 0, 0), 't']] 3.735\n",
      " > Model[[(1, 1, 2), (0, 0, 0, 0), 'n']] 3.813\n",
      " > Model[[(1, 1, 2), (0, 0, 0, 0), 'c']] 3.802\n",
      " > Model[[(1, 1, 2), (0, 0, 0, 0), 't']] 3.757\n",
      " > Model[[(2, 0, 0), (0, 0, 0, 0), 'n']] 3.810\n",
      " > Model[[(2, 0, 0), (0, 0, 0, 0), 'c']] 6.156\n",
      " > Model[[(2, 0, 0), (0, 0, 0, 0), 't']] 6.771\n",
      " > Model[[(2, 0, 1), (0, 0, 0, 0), 'n']] 3.759\n",
      " > Model[[(2, 0, 1), (0, 0, 0, 0), 'c']] 4.934\n",
      " > Model[[(2, 0, 1), (0, 0, 0, 0), 't']] 5.128\n",
      " > Model[[(2, 0, 2), (0, 0, 0, 0), 'n']] 3.798\n",
      " > Model[[(2, 0, 2), (0, 0, 0, 0), 'c']] 4.972\n",
      " > Model[[(2, 0, 2), (0, 0, 0, 0), 't']] 5.175\n",
      " > Model[[(2, 1, 0), (0, 0, 0, 0), 'n']] 4.023\n",
      " > Model[[(2, 1, 0), (0, 0, 0, 0), 'c']] 4.020\n",
      " > Model[[(2, 1, 0), (0, 0, 0, 0), 't']] 4.017\n",
      " > Model[[(2, 1, 1), (0, 0, 0, 0), 'n']] 3.824\n",
      " > Model[[(2, 1, 1), (0, 0, 0, 0), 'c']] 3.814\n",
      " > Model[[(2, 1, 1), (0, 0, 0, 0), 't']] 3.733\n",
      " > Model[[(2, 1, 2), (0, 0, 0, 0), 'n']] 3.802\n",
      " > Model[[(2, 1, 2), (0, 0, 0, 0), 'c']] 3.806\n",
      " > Model[[(2, 1, 2), (0, 0, 0, 0), 't']] 3.757\n",
      "done\n",
      "[(2, 1, 1), (0, 0, 0, 0), 't'] 3.7327469826670483\n",
      "[(1, 1, 1), (0, 0, 0, 0), 't'] 3.7348974189247577\n",
      "[(2, 1, 2), (0, 0, 0, 0), 't'] 3.7566147065946494\n"
     ]
    }
   ],
   "source": [
    "if __name__ == '__main__':\n",
    "    # define dataset\n",
    "    data = X\n",
    "\n",
    "    # data split\n",
    "    n_test = 12\n",
    "    # model configs\n",
    "    #manually state the parameter for the seasonality that we would like to try.\n",
    "    cfg_list = sarima_configs(seasonal=[0])\n",
    "    # grid search\n",
    "    scores = grid_search(data, cfg_list, n_test)\n",
    "    print('done')\n",
    "    # list top 3 configs\n",
    "    for cfg, error in scores[:3]:\n",
    "        print(cfg, error)"
   ]
  },
  {
   "cell_type": "markdown",
   "metadata": {},
   "source": [
    "## Comparison TADA VS ARIMA "
   ]
  },
  {
   "cell_type": "code",
   "execution_count": 22,
   "metadata": {},
   "outputs": [
    {
     "name": "stdout",
     "output_type": "stream",
     "text": [
      "predicted ARIMA=4.078359, expected=7.700000\n",
      "predicted ARIMA=6.475372, expected=0.800000\n",
      "predicted ARIMA=2.668829, expected=9.400000\n",
      "predicted ARIMA=7.340436, expected=9.100000\n",
      "predicted ARIMA=7.508380, expected=9.900000\n",
      "predicted ARIMA=8.649683, expected=1.200000\n",
      "predicted ARIMA=4.022500, expected=0.900000\n",
      "predicted ARIMA=3.194960, expected=0.500000\n",
      "predicted ARIMA=2.033626, expected=1.100000\n",
      "predicted ARIMA=1.777201, expected=0.400000\n",
      "predicted ARIMA=1.053342, expected=0.500000\n",
      "predicted ARIMA=0.884006, expected=1.600000\n",
      "Test RMSE ARIMA: 3.825\n",
      "predicted TADA=5.386005, expected=7.700000\n",
      "predicted TADA=8.304866, expected=0.800000\n",
      "predicted TADA=5.913280, expected=9.400000\n",
      "predicted TADA=6.911383, expected=9.100000\n",
      "predicted TADA=9.605055, expected=9.900000\n",
      "predicted TADA=6.583201, expected=1.200000\n",
      "predicted TADA=4.643816, expected=0.900000\n",
      "predicted TADA=3.485148, expected=0.500000\n",
      "predicted TADA=2.088092, expected=1.100000\n",
      "predicted TADA=3.038621, expected=0.400000\n",
      "predicted TADA=0.719044, expected=0.500000\n",
      "predicted TADA=3.319117, expected=1.600000\n",
      "Test RMSE TADA: 3.435\n"
     ]
    },
    {
     "data": {
      "image/png": "[encoded data removed]",
      "text/plain": [
       "<Figure size 432x288 with 1 Axes>"
      ]
     },
     "metadata": {
      "needs_background": "light"
     },
     "output_type": "display_data"
    }
   ],
   "source": [
    "predictions_ARIMA = list()\n",
    "# define model configuration\n",
    "my_order = (2, 1, 1)\n",
    "my_seasonal_order = (0, 0, 0, 0)\n",
    "# split dataset\n",
    "train, test = train_test_split(X, 12)\n",
    "history = [x for x in train]\n",
    "\n",
    "# walk-forward validation\n",
    "for t in range(len(test)):\n",
    "    model = SARIMAX(history,order=my_order, seasonal_order=my_seasonal_order)\n",
    "    model_fit = model.fit()\n",
    "    output = model_fit.forecast()\n",
    "    yhat = output[0]\n",
    "    predictions_ARIMA.append(yhat)\n",
    "    obs = test[t]\n",
    "    history.append(obs)\n",
    "    print('predicted ARIMA=%f, expected=%f' % (yhat, obs))\n",
    "# evaluate forecasts ARIMA\n",
    "rmse_ARIMA = sqrt(mean_squared_error(test, predictions_ARIMA))\n",
    "print('Test RMSE ARIMA: %.3f' % rmse_ARIMA)\n",
    "\n",
    "\n",
    "predictions_TADA=list()\n",
    "\n",
    "#from features dataframe, we select only the last 24 rows\n",
    "ft=features.iloc[-12:]\n",
    "for i in range(len(ft)):\n",
    "    i=int(i)\n",
    "    current=ft.iloc[i, ]\n",
    "    tzero = float(current [\"tzero\"])\n",
    "    target=float(current[\"Target_Tplus1\"])\n",
    "    column_0 = float(current[\"T-8\"])\n",
    "    column_1 = float(current[\"T-1\"])\n",
    "    column_2 = float(current[\"difference_13_12-1\"])\n",
    "    column_9 = float(current[\"T-3\"])\n",
    "    tzero = float(current[\"tzero\"])\n",
    "\n",
    "    yhat_TADA=0.47476271787264*column_2 - 0.000415032554341747*column_1*column_2 - 0.000563072971002988*column_2*sin(column_1) + 0.000415032554341747*column_2**2 + 0.539072034507153*sqrt(abs(column_2)) + 0.175329742395713*floor(tzero) - 0.597537031854734*floor(-0.419058940932557*column_0 + 0.167055771725032*ceiling(column_0)) + 0.212273446118005*floor(0.424322880903334*(column_1 - column_2) + 0.575677119096666*sin(column_1)) + 0.328734447642834*floor(0.495765621423667*(-column_2 + column_9) + 0.504234378576333*sin(column_9)) + 0.195193830509612*ceiling(0.424322880903334*(column_1 - column_2) + 0.575677119096666*sin(column_1)) - 0.00630517428416182*sin(column_2) - 1.02848918508668*cos(0.419058940932557*column_0 - 0.167055771725032*ceiling(column_0)) + 0.285274549591101*abs(tzero) + 0.00370304986928891*abs(0.495765621423667*(-column_2 + column_9) + 0.504234378576333*sin(column_9))\n",
    "\n",
    "\n",
    "    predictions_TADA.append(yhat_TADA)\n",
    "    print('predicted TADA=%f, expected=%f' % (yhat_TADA, target))\n",
    "#evaluate forecast TADA \n",
    "rmse_TADA = sqrt(mean_squared_error(test, predictions_TADA))\n",
    "print('Test RMSE TADA: %.3f' % rmse_TADA)\n",
    "# plot forecasts against actual outcomes\n",
    "plt.plot(test,color='blue', label=\"ground truth\")\n",
    "plt.plot(predictions_ARIMA, color='red', label=\"ARIMA\")\n",
    "plt.plot(predictions_TADA, color='green',label=\"TADA\")\n",
    "plt.legend()\n",
    "plt.show()"
   ]
  }
 ],
 "metadata": {
  "kernelspec": {
   "display_name": "Python 3",
   "language": "python",
   "name": "python3"
  },
  "language_info": {
   "codemirror_mode": {
    "name": "ipython",
    "version": 3
   },
   "file_extension": ".py",
   "mimetype": "text/x-python",
   "name": "python",
   "nbconvert_exporter": "python",
   "pygments_lexer": "ipython3",
   "version": "3.8.5"
  }
 },
 "nbformat": 4,
 "nbformat_minor": 4
}
